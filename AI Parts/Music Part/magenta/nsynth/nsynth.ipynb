{
  "nbformat": 4,
  "nbformat_minor": 0,
  "metadata": {
    "accelerator": "GPU",
    "colab": {
      "name": "nsynth.ipynb",
      "provenance": [],
      "collapsed_sections": []
    },
    "kernelspec": {
      "display_name": "Python 3",
      "name": "python3"
    }
  },
  "cells": [
    {
      "cell_type": "markdown",
      "metadata": {
        "id": "zRmlJYze_29V"
      },
      "source": [
        "Copyright 2017 Google LLC.\n",
        "\n",
        "Licensed under the Apache License, Version 2.0 (the \"License\");\n",
        "you may not use this file except in compliance with the License.\n",
        "You may obtain a copy of the License at\n",
        "\n",
        "https://www.apache.org/licenses/LICENSE-2.0\n",
        "\n",
        "Unless required by applicable law or agreed to in writing, software\n",
        "distributed under the License is distributed on an \"AS IS\" BASIS,\n",
        "WITHOUT WARRANTIES OR CONDITIONS OF ANY KIND, either express or implied.\n",
        "See the License for the specific language governing permissions and\n",
        "limitations under the License.\n",
        "\n"
      ]
    },
    {
      "cell_type": "markdown",
      "metadata": {
        "id": "2Axg7pBLtt3V"
      },
      "source": [
        "# E-Z NSynth\n",
        "\n",
        "__Neural Audio Synthesis of Musical Notes with WaveNet Autoencoders, ICML 2017__\n",
        "\n",
        "Jesse Engel, Cinjon Resnick, Adam Roberts, Sander Dieleman, Douglas Eck, Karen Simonyan, Mohammad Norouzi\n",
        "\n",
        "## Instructions\n",
        "* This colab notebook has everything you need to upload your own sounds and use NSynth models to reconstruct and interpolate between them.\n",
        "* You can use these sounds as samples in your own music a la [Andrew Huang Rocking Out with NSynth](https://www.youtube.com/watch?v=AaALLWQmCdI).\n",
        "* Make sure to use a kernel with a GPU attached by selecting: **Edit >> Notebook Settings >> Hardware Accelerator >> GPU** from the dropdown menu.\n",
        "* You can run this notebook without writing / seeing a line of code. Just click the triangular **\"Play\"** button on the left of each cell.\n",
        "* Start at the top and work your way to the bottom, clicking **\"Play\"** for each cell.\n",
        "* If you want to see the code, you can reveal with the menu on the upper right hand side of each cell.\n",
        "\n",
        "\n",
        "### Other Resources:\n",
        "* [Nat and Friends \"Behind the scenes\"](https://www.youtube.com/watch?v=BOoSy-Pg8is)\n",
        "* [Original Blog Post](https://magenta.tensorflow.org/nsynth)\n",
        "* [NSynth Instrument](https://magenta.tensorflow.org/nsynth-instrument)\n",
        "* [Jupyter Notebook Tutorial](https://magenta.tensorflow.org/nsynth-fastgen)\n",
        "* [ArXiv Paper](https://arxiv.org/abs/1704.01279)\n",
        "* [Github Code](https://github.com/tensorflow/magenta/tree/main/magenta/models/nsynth)\n",
        "\n"
      ]
    },
    {
      "cell_type": "markdown",
      "metadata": {
        "id": "e-2av9upRi0z"
      },
      "source": [
        "# Setup Environment\n",
        "\n",
        "We need to start downloading and choosing a pretrained NSynth model to use. Transfers several GBs, may take a minute or two. Just click Play..."
      ]
    },
    {
      "cell_type": "code",
      "metadata": {
        "cellView": "form",
        "colab": {
          "base_uri": "https://localhost:8080/"
        },
        "id": "ZA7tNz2zAWvn",
        "outputId": "1d2c9894-8324-492b-97bd-9db46a8cca83"
      },
      "source": [
        "#@title Setup Environment\n",
        "#@test {\"output\": \"ignore\"}\n",
        "\n",
        "\n",
        "# Install magenta\n",
        "print('Installing Magenta...\\n')\n",
        "!pip install -qU magenta\n",
        "print('Installing ffmpeg...\\n')\n",
        "!echo \"Yes\" | apt-get install ffmpeg > /dev/null\n",
        "\n",
        "\n",
        "print('Downloading Pretrained Models...\\n')\n",
        "# Copy checkpoints from google cloud\n",
        "# Copying 1GB, takes a minute\n",
        "print('Getting Instruments Model...\\n')\n",
        "!gsutil -q -m cp -R gs://download.magenta.tensorflow.org/models/nsynth/wavenet-ckpt.tar /content/\n",
        "print('Getting Voices Model...\\n')\n",
        "!gsutil -q -m cp -R gs://download.magenta.tensorflow.org/models/nsynth/wavenet-voice-ckpt.tar.gz /content/\n",
        "!cd /content/\n",
        "!tar -xvf wavenet-ckpt.tar > /dev/null\n",
        "!tar -xvf wavenet-voice-ckpt.tar.gz > /dev/null\n",
        "\n",
        "\n",
        "print('Importing Modules...\\n')\n",
        "# Load modules and helper functions\n",
        "import os\n",
        "import numpy as np\n",
        "import matplotlib.pyplot as plt\n",
        "from IPython.display import Audio\n",
        "%matplotlib inline\n",
        "\n",
        "from google.colab import files\n",
        "from magenta.models.nsynth import utils\n",
        "from magenta.models.nsynth.wavenet import fastgen\n",
        "from note_seq.notebook_utils import colab_play as play\n",
        "\n",
        "def upload(sample_length, sr):\n",
        "  '''Upload a .wav file.'''\n",
        "  filemap = files.upload()\n",
        "  file_list, audio_list = [], []\n",
        "  for key, value in filemap.items():\n",
        "    fname = os.path.join('/content/', key)\n",
        "    with open(fname, 'wb') as f:\n",
        "      f.write(value)\n",
        "    audio = utils.load_audio(fname, sample_length=sample_length, sr=sr)\n",
        "    file_list.append(fname)\n",
        "    audio_list.append(audio)\n",
        "  return file_list, audio_list\n",
        "\n",
        "download = files.download\n",
        "\n",
        "get_name = lambda f: os.path.splitext(os.path.basename(f))[0]\n",
        "\n",
        "print('Sucess!! Environment is now setup.')\n"
      ],
      "execution_count": 5,
      "outputs": [
        {
          "output_type": "stream",
          "text": [
            "Installing Magenta...\n",
            "\n",
            "Installing ffmpeg...\n",
            "\n",
            "Downloading Pretrained Models...\n",
            "\n",
            "Getting Instruments Model...\n",
            "\n",
            "Getting Voices Model...\n",
            "\n",
            "Importing Modules...\n",
            "\n",
            "Sucess!! Environment is now setup.\n"
          ],
          "name": "stdout"
        }
      ]
    },
    {
      "cell_type": "markdown",
      "metadata": {
        "id": "QyAT8mQhX1Gq"
      },
      "source": [
        "We have two pretrained models to choose from. One trained on the individual instrument notes of the [NSynth Dataset](https://magenta.tensorflow.org/datasets/nsynth) (\"Instruments\"), and another trained on a variety of voices in the wild for an art project (\"Voices\", mixture of singing and speaking). The Instruments model was trained on a larger quantity of data, so tends to generalize a bit better. Neither reconstructs audio perfectly, but both add their own unique character to sounds. Explore them both and see what you like!"
      ]
    },
    {
      "cell_type": "code",
      "metadata": {
        "cellView": "form",
        "colab": {
          "base_uri": "https://localhost:8080/"
        },
        "id": "gSXXL26bLDCy",
        "outputId": "73e3a7d4-156c-43fe-82ba-9c66d82c1fba"
      },
      "source": [
        "#@title Choose a Model { vertical-output: true, run: \"auto\" }\n",
        "Model = \"Instruments\" #@param [\"Instruments\", \"Voices\"] {type:\"string\"}\n",
        "ckpts = {'Instruments': '/content/wavenet-ckpt/model.ckpt-200000',\n",
        "         'Voices': '/content/wavenet-voice-ckpt/model.ckpt-200000'}\n",
        "\n",
        "ckpt_path = ckpts[Model]\n",
        "print('Using model pretrained on %s.' % Model)"
      ],
      "execution_count": 6,
      "outputs": [
        {
          "output_type": "stream",
          "text": [
            "Using model pretrained on Instruments.\n"
          ],
          "name": "stdout"
        }
      ]
    },
    {
      "cell_type": "markdown",
      "metadata": {
        "id": "LTAkswTOcgAp"
      },
      "source": [
        "# Load Sound Files\n",
        "\n",
        "Now it's time for you to load your own sound files for processing. You can use either `.wav` files or `.mp3` files, but in either case they will be converted to `.wav`. All files will be downsampled to 16kHz and cropped / silence padded to `Length` seconds as the input and output to the algorithm.\n",
        "\n",
        "Don't have sounds? You can downloaded free sounds from freesound.org For example:\n",
        "* https://freesound.org/people/MustardPlug/sounds/395058/\n",
        "* https://freesound.org/people/cms4f/sounds/159119/\n",
        "* https://freesound.org/people/juskiddink/sounds/60055/\n",
        "* https://freesound.org/people/Audeption/sounds/418526/\n",
        "* https://freesound.org/people/Jagadamba/sounds/255878/\n",
        "\n",
        "\n",
        "Keep in mind, with the cloud GPU synthesis takes around 4 minutes / 1 second of length."
      ]
    },
    {
      "cell_type": "code",
      "metadata": {
        "cellView": "form",
        "id": "CnSCiX0kA2-5"
      },
      "source": [
        "#@title Set Sound Length (in Seconds) { vertical-output: true, run: \"auto\" }\n",
        "Length = 2.0 #@param {type:\"number\"}\n",
        "SR = 16000\n",
        "SAMPLE_LENGTH = int(SR * Length)"
      ],
      "execution_count": 7,
      "outputs": []
    },
    {
      "cell_type": "markdown",
      "metadata": {
        "id": "c9IufW4mtPAU"
      },
      "source": [
        "Put all your sound files into a single folder and maker sure to select all the files you want to reconstruct / interpolate between. **(Ctrl/Cmd/Shift Click)**"
      ]
    },
    {
      "cell_type": "code",
      "metadata": {
        "cellView": "form",
        "colab": {
          "resources": {
            "http://localhost:8080/nbextensions/google.colab/files.js": {
              "data": "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",
              "ok": true,
              "headers": [
                [
                  "content-type",
                  "application/javascript"
                ]
              ],
              "status": 200,
              "status_text": ""
            }
          },
          "base_uri": "https://localhost:8080/",
          "height": 38
        },
        "id": "mPwQYyYgBkdp",
        "outputId": "8a6ee2a7-9376-446c-be8c-0a704bd7df45"
      },
      "source": [
        "#@title Upload sound files (.wav, .mp3)\n",
        "\n",
        "try:\n",
        "  file_list, audio_list = upload(sample_length=SAMPLE_LENGTH, sr=SR)\n",
        "  names = [get_name(f) for f in file_list]\n",
        "  # Pad and peak normalize\n",
        "  for i in range(len(audio_list)):\n",
        "    audio_list[i] = audio_list[i] / np.abs(audio_list[i]).max()\n",
        "\n",
        "    if len(audio_list[i]) < SAMPLE_LENGTH:\n",
        "      padding = SAMPLE_LENGTH - len(audio_list[i])\n",
        "      audio_list[i] = np.pad(audio_list[i], (0, padding), 'constant')\n",
        "\n",
        "  audio_list = np.array(audio_list)\n",
        "except Exception as e:\n",
        "  print('Upload Cancelled')\n",
        "  print(e)"
      ],
      "execution_count": null,
      "outputs": [
        {
          "output_type": "display_data",
          "data": {
            "text/html": [
              "\n",
              "     <input type=\"file\" id=\"files-ce136f00-3599-4960-b4c6-db5413f9ffdc\" name=\"files[]\" multiple disabled\n",
              "        style=\"border:none\" />\n",
              "     <output id=\"result-ce136f00-3599-4960-b4c6-db5413f9ffdc\">\n",
              "      Upload widget is only available when the cell has been executed in the\n",
              "      current browser session. Please rerun this cell to enable.\n",
              "      </output>\n",
              "      <script src=\"/nbextensions/google.colab/files.js\"></script> "
            ],
            "text/plain": [
              "<IPython.core.display.HTML object>"
            ]
          },
          "metadata": {
            "tags": []
          }
        }
      ]
    },
    {
      "cell_type": "markdown",
      "metadata": {
        "id": "bQKDlAdW_qKn"
      },
      "source": [
        "# Encode\n",
        "\n",
        "Next we need to encode the audio. This should be relatively fast on a GPU, we will also create interpolations (the midpoints between each encoding) from which to re-synthesize audio."
      ]
    },
    {
      "cell_type": "code",
      "metadata": {
        "cellView": "form",
        "colab": {
          "base_uri": "https://localhost:8080/"
        },
        "id": "SSr-7vuH_29l",
        "outputId": "07980195-957f-4785-b0e1-c39b50f74af4"
      },
      "source": [
        "#@title Generate Encodings\n",
        "audio = np.array(audio_list)\n",
        "z = fastgen.encode(audio, ckpt_path, SAMPLE_LENGTH)\n",
        "print('Encoded %d files' % z.shape[0])\n",
        "\n",
        "\n",
        "# Start with reconstructions\n",
        "z_list = [z_ for z_ in z]\n",
        "name_list = ['recon_' + name_ for name_ in names]\n",
        "\n",
        "# Add all the mean interpolations\n",
        "n = len(names)\n",
        "for i in range(n - 1):\n",
        "  for j in range(i + 1, n):\n",
        "    new_z = (z[i] + z[j]) / 2.0\n",
        "    new_name = 'interp_' + names[i] + '_X_'+ names[j]\n",
        "    z_list.append(new_z)\n",
        "    name_list.append(new_name)\n",
        "\n",
        "print(\"%d total: %d reconstructions and %d interpolations\" % (len(name_list), n, len(name_list) - n))"
      ],
      "execution_count": 9,
      "outputs": [
        {
          "output_type": "stream",
          "text": [
            "INFO:tensorflow:Restoring parameters from /content/wavenet-ckpt/model.ckpt-200000\n",
            "Encoded 1 files\n",
            "1 total: 1 reconstructions and 0 interpolations\n"
          ],
          "name": "stdout"
        }
      ]
    },
    {
      "cell_type": "markdown",
      "metadata": {
        "id": "hKR6CGUe_290"
      },
      "source": [
        "For fun, we can take a look at the encoding of our audio files. They are compressed representations of the audio but have some structure in their own right, (16 numbers, kind of like 16 channels of audio, so there are 16 different lines, colors are arbitrary). "
      ]
    },
    {
      "cell_type": "code",
      "metadata": {
        "cellView": "form",
        "colab": {
          "base_uri": "https://localhost:8080/",
          "height": 621
        },
        "id": "7Cawft23_290",
        "outputId": "ea9e2924-b8fa-4a8d-e71f-157cd1677d3e"
      },
      "source": [
        "#@title Visualize Audio and Encoding { vertical-output: true, run: \"auto\" }\n",
        "SoundFile = 0 #@param {type:\"slider\", min:0, max:10, step:1}\n",
        "file_number = SoundFile\n",
        "\n",
        "try:\n",
        "  print(names[file_number])\n",
        "  play(audio_list[file_number], sample_rate=SR)\n",
        "  # fig, axs = plt.subplots(2, 1, figsize=(12, 10))\n",
        "  plt.figure()\n",
        "  plt.plot(audio_list[file_number])\n",
        "  plt.title('Audio Signal')\n",
        "\n",
        "  plt.figure()\n",
        "  plt.plot(z_list[file_number])\n",
        "  plt.title('NSynth Encoding')\n",
        "except Exception as e:\n",
        "  print(e)"
      ],
      "execution_count": 10,
      "outputs": [
        {
          "output_type": "stream",
          "text": [
            "Voice 008\n"
          ],
          "name": "stdout"
        },
        {
          "output_type": "display_data",
          "data": {
            "text/html": [
              "<div id=\"id_1\"> </div>"
            ],
            "text/plain": [
              "<IPython.core.display.HTML object>"
            ]
          },
          "metadata": {
            "tags": []
          }
        },
        {
          "output_type": "display_data",
          "data": {
            "image/png": "[encoded data removed]",
            "text/plain": [
              "<Figure size 432x288 with 1 Axes>"
            ]
          },
          "metadata": {
            "tags": [],
            "needs_background": "light"
          }
        },
        {
          "output_type": "display_data",
          "data": {
            "image/png": "[encoded data removed]",
            "text/plain": [
              "<Figure size 432x288 with 1 Axes>"
            ]
          },
          "metadata": {
            "tags": [],
            "needs_background": "light"
          }
        }
      ]
    },
    {
      "cell_type": "markdown",
      "metadata": {
        "id": "NGQfWut8U8QS"
      },
      "source": [
        "# Synthesize\n",
        "\n",
        "On the GPU, this should take about 4 minutes per 1 second of audio per a batch."
      ]
    },
    {
      "cell_type": "code",
      "metadata": {
        "cellView": "form",
        "colab": {
          "base_uri": "https://localhost:8080/"
        },
        "id": "3Eh71eovH4NZ",
        "outputId": "cbd3bf03-54c3-44b4-8248-8b2e0ba04b64"
      },
      "source": [
        "#@title Synthesize Interpolations\n",
        "print('Total Iterations to Complete: %d\\n' % SAMPLE_LENGTH)\n",
        "\n",
        "encodings = np.array(z_list)\n",
        "save_paths = ['/content/' + name + '.wav' for name in name_list]\n",
        "fastgen.synthesize(encodings,\n",
        "                   save_paths=save_paths,\n",
        "                   checkpoint_path=ckpt_path,\n",
        "                   samples_per_save=int(SAMPLE_LENGTH / 10))"
      ],
      "execution_count": 11,
      "outputs": [
        {
          "output_type": "stream",
          "text": [
            "Total Iterations to Complete: 32000\n",
            "\n",
            "INFO:tensorflow:Restoring parameters from /content/wavenet-ckpt/model.ckpt-200000\n",
            "INFO:tensorflow:Sample: 0\n",
            "INFO:tensorflow:Saving: /content/recon_Voice 008.wav\n",
            "INFO:tensorflow:Sample: 100\n",
            "INFO:tensorflow:Sample: 200\n",
            "INFO:tensorflow:Sample: 300\n",
            "INFO:tensorflow:Sample: 400\n",
            "INFO:tensorflow:Sample: 500\n",
            "INFO:tensorflow:Sample: 600\n",
            "INFO:tensorflow:Sample: 700\n",
            "INFO:tensorflow:Sample: 800\n",
            "INFO:tensorflow:Sample: 900\n",
            "INFO:tensorflow:Sample: 1000\n",
            "INFO:tensorflow:Sample: 1100\n",
            "INFO:tensorflow:Sample: 1200\n",
            "INFO:tensorflow:Sample: 1300\n",
            "INFO:tensorflow:Sample: 1400\n",
            "INFO:tensorflow:Sample: 1500\n",
            "INFO:tensorflow:Sample: 1600\n",
            "INFO:tensorflow:Sample: 1700\n",
            "INFO:tensorflow:Sample: 1800\n",
            "INFO:tensorflow:Sample: 1900\n",
            "INFO:tensorflow:Sample: 2000\n",
            "INFO:tensorflow:Sample: 2100\n",
            "INFO:tensorflow:Sample: 2200\n",
            "INFO:tensorflow:Sample: 2300\n",
            "INFO:tensorflow:Sample: 2400\n",
            "INFO:tensorflow:Sample: 2500\n",
            "INFO:tensorflow:Sample: 2600\n",
            "INFO:tensorflow:Sample: 2700\n",
            "INFO:tensorflow:Sample: 2800\n",
            "INFO:tensorflow:Sample: 2900\n",
            "INFO:tensorflow:Sample: 3000\n",
            "INFO:tensorflow:Sample: 3100\n",
            "INFO:tensorflow:Sample: 3200\n",
            "INFO:tensorflow:Saving: /content/recon_Voice 008.wav\n",
            "INFO:tensorflow:Sample: 3300\n",
            "INFO:tensorflow:Sample: 3400\n",
            "INFO:tensorflow:Sample: 3500\n",
            "INFO:tensorflow:Sample: 3600\n",
            "INFO:tensorflow:Sample: 3700\n",
            "INFO:tensorflow:Sample: 3800\n",
            "INFO:tensorflow:Sample: 3900\n",
            "INFO:tensorflow:Sample: 4000\n",
            "INFO:tensorflow:Sample: 4100\n",
            "INFO:tensorflow:Sample: 4200\n",
            "INFO:tensorflow:Sample: 4300\n",
            "INFO:tensorflow:Sample: 4400\n",
            "INFO:tensorflow:Sample: 4500\n",
            "INFO:tensorflow:Sample: 4600\n",
            "INFO:tensorflow:Sample: 4700\n",
            "INFO:tensorflow:Sample: 4800\n",
            "INFO:tensorflow:Sample: 4900\n",
            "INFO:tensorflow:Sample: 5000\n",
            "INFO:tensorflow:Sample: 5100\n",
            "INFO:tensorflow:Sample: 5200\n",
            "INFO:tensorflow:Sample: 5300\n",
            "INFO:tensorflow:Sample: 5400\n",
            "INFO:tensorflow:Sample: 5500\n",
            "INFO:tensorflow:Sample: 5600\n",
            "INFO:tensorflow:Sample: 5700\n",
            "INFO:tensorflow:Sample: 5800\n",
            "INFO:tensorflow:Sample: 5900\n",
            "INFO:tensorflow:Sample: 6000\n",
            "INFO:tensorflow:Sample: 6100\n",
            "INFO:tensorflow:Sample: 6200\n",
            "INFO:tensorflow:Sample: 6300\n",
            "INFO:tensorflow:Sample: 6400\n",
            "INFO:tensorflow:Saving: /content/recon_Voice 008.wav\n",
            "INFO:tensorflow:Sample: 6500\n",
            "INFO:tensorflow:Sample: 6600\n",
            "INFO:tensorflow:Sample: 6700\n",
            "INFO:tensorflow:Sample: 6800\n",
            "INFO:tensorflow:Sample: 6900\n",
            "INFO:tensorflow:Sample: 7000\n",
            "INFO:tensorflow:Sample: 7100\n",
            "INFO:tensorflow:Sample: 7200\n",
            "INFO:tensorflow:Sample: 7300\n",
            "INFO:tensorflow:Sample: 7400\n",
            "INFO:tensorflow:Sample: 7500\n",
            "INFO:tensorflow:Sample: 7600\n",
            "INFO:tensorflow:Sample: 7700\n",
            "INFO:tensorflow:Sample: 7800\n",
            "INFO:tensorflow:Sample: 7900\n",
            "INFO:tensorflow:Sample: 8000\n",
            "INFO:tensorflow:Sample: 8100\n",
            "INFO:tensorflow:Sample: 8200\n",
            "INFO:tensorflow:Sample: 8300\n",
            "INFO:tensorflow:Sample: 8400\n",
            "INFO:tensorflow:Sample: 8500\n",
            "INFO:tensorflow:Sample: 8600\n",
            "INFO:tensorflow:Sample: 8700\n",
            "INFO:tensorflow:Sample: 8800\n",
            "INFO:tensorflow:Sample: 8900\n",
            "INFO:tensorflow:Sample: 9000\n",
            "INFO:tensorflow:Sample: 9100\n",
            "INFO:tensorflow:Sample: 9200\n",
            "INFO:tensorflow:Sample: 9300\n",
            "INFO:tensorflow:Sample: 9400\n",
            "INFO:tensorflow:Sample: 9500\n",
            "INFO:tensorflow:Sample: 9600\n",
            "INFO:tensorflow:Saving: /content/recon_Voice 008.wav\n",
            "INFO:tensorflow:Sample: 9700\n",
            "INFO:tensorflow:Sample: 9800\n",
            "INFO:tensorflow:Sample: 9900\n",
            "INFO:tensorflow:Sample: 10000\n",
            "INFO:tensorflow:Sample: 10100\n",
            "INFO:tensorflow:Sample: 10200\n",
            "INFO:tensorflow:Sample: 10300\n",
            "INFO:tensorflow:Sample: 10400\n",
            "INFO:tensorflow:Sample: 10500\n",
            "INFO:tensorflow:Sample: 10600\n",
            "INFO:tensorflow:Sample: 10700\n",
            "INFO:tensorflow:Sample: 10800\n",
            "INFO:tensorflow:Sample: 10900\n",
            "INFO:tensorflow:Sample: 11000\n",
            "INFO:tensorflow:Sample: 11100\n",
            "INFO:tensorflow:Sample: 11200\n",
            "INFO:tensorflow:Sample: 11300\n",
            "INFO:tensorflow:Sample: 11400\n",
            "INFO:tensorflow:Sample: 11500\n",
            "INFO:tensorflow:Sample: 11600\n",
            "INFO:tensorflow:Sample: 11700\n",
            "INFO:tensorflow:Sample: 11800\n",
            "INFO:tensorflow:Sample: 11900\n",
            "INFO:tensorflow:Sample: 12000\n",
            "INFO:tensorflow:Sample: 12100\n",
            "INFO:tensorflow:Sample: 12200\n",
            "INFO:tensorflow:Sample: 12300\n",
            "INFO:tensorflow:Sample: 12400\n",
            "INFO:tensorflow:Sample: 12500\n",
            "INFO:tensorflow:Sample: 12600\n",
            "INFO:tensorflow:Sample: 12700\n",
            "INFO:tensorflow:Sample: 12800\n",
            "INFO:tensorflow:Saving: /content/recon_Voice 008.wav\n",
            "INFO:tensorflow:Sample: 12900\n",
            "INFO:tensorflow:Sample: 13000\n",
            "INFO:tensorflow:Sample: 13100\n",
            "INFO:tensorflow:Sample: 13200\n",
            "INFO:tensorflow:Sample: 13300\n",
            "INFO:tensorflow:Sample: 13400\n",
            "INFO:tensorflow:Sample: 13500\n",
            "INFO:tensorflow:Sample: 13600\n",
            "INFO:tensorflow:Sample: 13700\n",
            "INFO:tensorflow:Sample: 13800\n",
            "INFO:tensorflow:Sample: 13900\n",
            "INFO:tensorflow:Sample: 14000\n",
            "INFO:tensorflow:Sample: 14100\n",
            "INFO:tensorflow:Sample: 14200\n",
            "INFO:tensorflow:Sample: 14300\n",
            "INFO:tensorflow:Sample: 14400\n",
            "INFO:tensorflow:Sample: 14500\n",
            "INFO:tensorflow:Sample: 14600\n",
            "INFO:tensorflow:Sample: 14700\n",
            "INFO:tensorflow:Sample: 14800\n",
            "INFO:tensorflow:Sample: 14900\n",
            "INFO:tensorflow:Sample: 15000\n",
            "INFO:tensorflow:Sample: 15100\n",
            "INFO:tensorflow:Sample: 15200\n",
            "INFO:tensorflow:Sample: 15300\n",
            "INFO:tensorflow:Sample: 15400\n",
            "INFO:tensorflow:Sample: 15500\n",
            "INFO:tensorflow:Sample: 15600\n",
            "INFO:tensorflow:Sample: 15700\n",
            "INFO:tensorflow:Sample: 15800\n",
            "INFO:tensorflow:Sample: 15900\n",
            "INFO:tensorflow:Sample: 16000\n",
            "INFO:tensorflow:Saving: /content/recon_Voice 008.wav\n",
            "INFO:tensorflow:Sample: 16100\n",
            "INFO:tensorflow:Sample: 16200\n",
            "INFO:tensorflow:Sample: 16300\n",
            "INFO:tensorflow:Sample: 16400\n",
            "INFO:tensorflow:Sample: 16500\n",
            "INFO:tensorflow:Sample: 16600\n",
            "INFO:tensorflow:Sample: 16700\n",
            "INFO:tensorflow:Sample: 16800\n",
            "INFO:tensorflow:Sample: 16900\n",
            "INFO:tensorflow:Sample: 17000\n",
            "INFO:tensorflow:Sample: 17100\n",
            "INFO:tensorflow:Sample: 17200\n",
            "INFO:tensorflow:Sample: 17300\n",
            "INFO:tensorflow:Sample: 17400\n",
            "INFO:tensorflow:Sample: 17500\n",
            "INFO:tensorflow:Sample: 17600\n",
            "INFO:tensorflow:Sample: 17700\n",
            "INFO:tensorflow:Sample: 17800\n",
            "INFO:tensorflow:Sample: 17900\n",
            "INFO:tensorflow:Sample: 18000\n",
            "INFO:tensorflow:Sample: 18100\n",
            "INFO:tensorflow:Sample: 18200\n",
            "INFO:tensorflow:Sample: 18300\n",
            "INFO:tensorflow:Sample: 18400\n",
            "INFO:tensorflow:Sample: 18500\n",
            "INFO:tensorflow:Sample: 18600\n",
            "INFO:tensorflow:Sample: 18700\n",
            "INFO:tensorflow:Sample: 18800\n",
            "INFO:tensorflow:Sample: 18900\n",
            "INFO:tensorflow:Sample: 19000\n",
            "INFO:tensorflow:Sample: 19100\n",
            "INFO:tensorflow:Sample: 19200\n",
            "INFO:tensorflow:Saving: /content/recon_Voice 008.wav\n",
            "INFO:tensorflow:Sample: 19300\n",
            "INFO:tensorflow:Sample: 19400\n",
            "INFO:tensorflow:Sample: 19500\n",
            "INFO:tensorflow:Sample: 19600\n",
            "INFO:tensorflow:Sample: 19700\n",
            "INFO:tensorflow:Sample: 19800\n",
            "INFO:tensorflow:Sample: 19900\n",
            "INFO:tensorflow:Sample: 20000\n",
            "INFO:tensorflow:Sample: 20100\n",
            "INFO:tensorflow:Sample: 20200\n",
            "INFO:tensorflow:Sample: 20300\n",
            "INFO:tensorflow:Sample: 20400\n",
            "INFO:tensorflow:Sample: 20500\n",
            "INFO:tensorflow:Sample: 20600\n",
            "INFO:tensorflow:Sample: 20700\n",
            "INFO:tensorflow:Sample: 20800\n",
            "INFO:tensorflow:Sample: 20900\n",
            "INFO:tensorflow:Sample: 21000\n",
            "INFO:tensorflow:Sample: 21100\n",
            "INFO:tensorflow:Sample: 21200\n",
            "INFO:tensorflow:Sample: 21300\n",
            "INFO:tensorflow:Sample: 21400\n",
            "INFO:tensorflow:Sample: 21500\n",
            "INFO:tensorflow:Sample: 21600\n",
            "INFO:tensorflow:Sample: 21700\n",
            "INFO:tensorflow:Sample: 21800\n",
            "INFO:tensorflow:Sample: 21900\n",
            "INFO:tensorflow:Sample: 22000\n",
            "INFO:tensorflow:Sample: 22100\n",
            "INFO:tensorflow:Sample: 22200\n",
            "INFO:tensorflow:Sample: 22300\n",
            "INFO:tensorflow:Sample: 22400\n",
            "INFO:tensorflow:Saving: /content/recon_Voice 008.wav\n",
            "INFO:tensorflow:Sample: 22500\n",
            "INFO:tensorflow:Sample: 22600\n",
            "INFO:tensorflow:Sample: 22700\n",
            "INFO:tensorflow:Sample: 22800\n",
            "INFO:tensorflow:Sample: 22900\n",
            "INFO:tensorflow:Sample: 23000\n",
            "INFO:tensorflow:Sample: 23100\n",
            "INFO:tensorflow:Sample: 23200\n",
            "INFO:tensorflow:Sample: 23300\n",
            "INFO:tensorflow:Sample: 23400\n",
            "INFO:tensorflow:Sample: 23500\n",
            "INFO:tensorflow:Sample: 23600\n",
            "INFO:tensorflow:Sample: 23700\n",
            "INFO:tensorflow:Sample: 23800\n",
            "INFO:tensorflow:Sample: 23900\n",
            "INFO:tensorflow:Sample: 24000\n",
            "INFO:tensorflow:Sample: 24100\n",
            "INFO:tensorflow:Sample: 24200\n",
            "INFO:tensorflow:Sample: 24300\n",
            "INFO:tensorflow:Sample: 24400\n",
            "INFO:tensorflow:Sample: 24500\n",
            "INFO:tensorflow:Sample: 24600\n",
            "INFO:tensorflow:Sample: 24700\n",
            "INFO:tensorflow:Sample: 24800\n",
            "INFO:tensorflow:Sample: 24900\n",
            "INFO:tensorflow:Sample: 25000\n",
            "INFO:tensorflow:Sample: 25100\n",
            "INFO:tensorflow:Sample: 25200\n",
            "INFO:tensorflow:Sample: 25300\n",
            "INFO:tensorflow:Sample: 25400\n",
            "INFO:tensorflow:Sample: 25500\n",
            "INFO:tensorflow:Sample: 25600\n",
            "INFO:tensorflow:Saving: /content/recon_Voice 008.wav\n",
            "INFO:tensorflow:Sample: 25700\n",
            "INFO:tensorflow:Sample: 25800\n",
            "INFO:tensorflow:Sample: 25900\n",
            "INFO:tensorflow:Sample: 26000\n",
            "INFO:tensorflow:Sample: 26100\n",
            "INFO:tensorflow:Sample: 26200\n",
            "INFO:tensorflow:Sample: 26300\n",
            "INFO:tensorflow:Sample: 26400\n",
            "INFO:tensorflow:Sample: 26500\n",
            "INFO:tensorflow:Sample: 26600\n",
            "INFO:tensorflow:Sample: 26700\n",
            "INFO:tensorflow:Sample: 26800\n",
            "INFO:tensorflow:Sample: 26900\n",
            "INFO:tensorflow:Sample: 27000\n",
            "INFO:tensorflow:Sample: 27100\n",
            "INFO:tensorflow:Sample: 27200\n",
            "INFO:tensorflow:Sample: 27300\n",
            "INFO:tensorflow:Sample: 27400\n",
            "INFO:tensorflow:Sample: 27500\n",
            "INFO:tensorflow:Sample: 27600\n",
            "INFO:tensorflow:Sample: 27700\n",
            "INFO:tensorflow:Sample: 27800\n",
            "INFO:tensorflow:Sample: 27900\n",
            "INFO:tensorflow:Sample: 28000\n",
            "INFO:tensorflow:Sample: 28100\n",
            "INFO:tensorflow:Sample: 28200\n",
            "INFO:tensorflow:Sample: 28300\n",
            "INFO:tensorflow:Sample: 28400\n",
            "INFO:tensorflow:Sample: 28500\n",
            "INFO:tensorflow:Sample: 28600\n",
            "INFO:tensorflow:Sample: 28700\n",
            "INFO:tensorflow:Sample: 28800\n",
            "INFO:tensorflow:Saving: /content/recon_Voice 008.wav\n",
            "INFO:tensorflow:Sample: 28900\n",
            "INFO:tensorflow:Sample: 29000\n",
            "INFO:tensorflow:Sample: 29100\n",
            "INFO:tensorflow:Sample: 29200\n",
            "INFO:tensorflow:Sample: 29300\n",
            "INFO:tensorflow:Sample: 29400\n",
            "INFO:tensorflow:Sample: 29500\n",
            "INFO:tensorflow:Sample: 29600\n",
            "INFO:tensorflow:Sample: 29700\n",
            "INFO:tensorflow:Sample: 29800\n",
            "INFO:tensorflow:Sample: 29900\n",
            "INFO:tensorflow:Sample: 30000\n",
            "INFO:tensorflow:Sample: 30100\n",
            "INFO:tensorflow:Sample: 30200\n",
            "INFO:tensorflow:Sample: 30300\n",
            "INFO:tensorflow:Sample: 30400\n",
            "INFO:tensorflow:Sample: 30500\n",
            "INFO:tensorflow:Sample: 30600\n",
            "INFO:tensorflow:Sample: 30700\n",
            "INFO:tensorflow:Sample: 30800\n",
            "INFO:tensorflow:Sample: 30900\n",
            "INFO:tensorflow:Sample: 31000\n",
            "INFO:tensorflow:Sample: 31100\n",
            "INFO:tensorflow:Sample: 31200\n",
            "INFO:tensorflow:Sample: 31300\n",
            "INFO:tensorflow:Sample: 31400\n",
            "INFO:tensorflow:Sample: 31500\n",
            "INFO:tensorflow:Sample: 31600\n",
            "INFO:tensorflow:Sample: 31700\n",
            "INFO:tensorflow:Saving: /content/recon_Voice 008.wav\n"
          ],
          "name": "stdout"
        }
      ]
    },
    {
      "cell_type": "code",
      "metadata": {
        "cellView": "form",
        "colab": {
          "base_uri": "https://localhost:8080/",
          "height": 51
        },
        "id": "Cm4Yz4VvPyRX",
        "outputId": "c202949b-dc4e-4a2a-d219-d77792f9621f"
      },
      "source": [
        "#@title Download Interpolations\n",
        "for fname in save_paths:\n",
        "  print('Downloading: %s' % fname.split('/')[-1])\n",
        "  download(fname)"
      ],
      "execution_count": 12,
      "outputs": [
        {
          "output_type": "stream",
          "text": [
            "Downloading: recon_Voice 008.wav\n"
          ],
          "name": "stdout"
        },
        {
          "output_type": "display_data",
          "data": {
            "application/javascript": [
              "\n",
              "    async function download(id, filename, size) {\n",
              "      if (!google.colab.kernel.accessAllowed) {\n",
              "        return;\n",
              "      }\n",
              "      const div = document.createElement('div');\n",
              "      const label = document.createElement('label');\n",
              "      label.textContent = `Downloading \"${filename}\": `;\n",
              "      div.appendChild(label);\n",
              "      const progress = document.createElement('progress');\n",
              "      progress.max = size;\n",
              "      div.appendChild(progress);\n",
              "      document.body.appendChild(div);\n",
              "\n",
              "      const buffers = [];\n",
              "      let downloaded = 0;\n",
              "\n",
              "      const channel = await google.colab.kernel.comms.open(id);\n",
              "      // Send a message to notify the kernel that we're ready.\n",
              "      channel.send({})\n",
              "\n",
              "      for await (const message of channel.messages) {\n",
              "        // Send a message to notify the kernel that we're ready.\n",
              "        channel.send({})\n",
              "        if (message.buffers) {\n",
              "          for (const buffer of message.buffers) {\n",
              "            buffers.push(buffer);\n",
              "            downloaded += buffer.byteLength;\n",
              "            progress.value = downloaded;\n",
              "          }\n",
              "        }\n",
              "      }\n",
              "      const blob = new Blob(buffers, {type: 'application/binary'});\n",
              "      const a = document.createElement('a');\n",
              "      a.href = window.URL.createObjectURL(blob);\n",
              "      a.download = filename;\n",
              "      div.appendChild(a);\n",
              "      a.click();\n",
              "      div.remove();\n",
              "    }\n",
              "  "
            ],
            "text/plain": [
              "<IPython.core.display.Javascript object>"
            ]
          },
          "metadata": {
            "tags": []
          }
        },
        {
          "output_type": "display_data",
          "data": {
            "application/javascript": [
              "download(\"download_46feeea4-86a2-447a-a227-5a9b41710597\", \"recon_Voice 008.wav\", 127034)"
            ],
            "text/plain": [
              "<IPython.core.display.Javascript object>"
            ]
          },
          "metadata": {
            "tags": []
          }
        }
      ]
    },
    {
      "cell_type": "code",
      "metadata": {
        "cellView": "form",
        "colab": {
          "base_uri": "https://localhost:8080/",
          "height": 275
        },
        "id": "ToDMo5PbC78w",
        "outputId": "d95376b8-e426-4cb3-d4e9-501edcc29c19"
      },
      "source": [
        "#@title Listen to the outputs\n",
        "\n",
        "print(\"Originals:\\n\")\n",
        "for fname in file_list:\n",
        "  synth_audio = utils.load_audio(fname,\n",
        "                                 sample_length=SAMPLE_LENGTH,\n",
        "                                 sr=SR)\n",
        "  print(get_name(fname))\n",
        "  play(synth_audio, sample_rate=SR)\n",
        "\n",
        "for i, fname in enumerate(save_paths):\n",
        "  if i == 0:\n",
        "    print(\"Reconstructions:\\n\")\n",
        "  if i == len(file_list):\n",
        "    print(\"Interpolations:\\n\")\n",
        "  synth_audio = utils.load_audio(fname,\n",
        "                                 sample_length=SAMPLE_LENGTH,\n",
        "                                 sr=SR)\n",
        "  print(get_name(fname))\n",
        "  play(synth_audio, sample_rate=SR)"
      ],
      "execution_count": 13,
      "outputs": [
        {
          "output_type": "stream",
          "text": [
            "Originals:\n",
            "\n"
          ],
          "name": "stdout"
        },
        {
          "output_type": "stream",
          "text": [
            "/usr/local/lib/python3.7/dist-packages/librosa/core/audio.py:161: UserWarning: PySoundFile failed. Trying audioread instead.\n",
            "  warnings.warn('PySoundFile failed. Trying audioread instead.')\n"
          ],
          "name": "stderr"
        },
        {
          "output_type": "stream",
          "text": [
            "Voice 008\n"
          ],
          "name": "stdout"
        },
        {
          "output_type": "display_data",
          "data": {
            "text/html": [
              "<div id=\"id_2\"> </div>"
            ],
            "text/plain": [
              "<IPython.core.display.HTML object>"
            ]
          },
          "metadata": {
            "tags": []
          }
        },
        {
          "output_type": "stream",
          "text": [
            "Reconstructions:\n",
            "\n",
            "recon_Voice 008\n"
          ],
          "name": "stdout"
        },
        {
          "output_type": "display_data",
          "data": {
            "text/html": [
              "<div id=\"id_3\"> </div>"
            ],
            "text/plain": [
              "<IPython.core.display.HTML object>"
            ]
          },
          "metadata": {
            "tags": []
          }
        }
      ]
    }
  ]
}